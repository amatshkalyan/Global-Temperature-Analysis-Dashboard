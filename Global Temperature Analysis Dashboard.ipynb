{
 "cells": [
  {
   "cell_type": "code",
   "execution_count": 17,
   "id": "6618e9fe",
   "metadata": {},
   "outputs": [],
   "source": [
    "import pandas as pd\n",
    "import requests\n",
    "import plotly.express as px\n",
    "import dash\n",
    "from dash import dcc, html\n",
    "from dash.dependencies import Input, Output"
   ]
  },
  {
   "cell_type": "code",
   "execution_count": 18,
   "id": "9053f03e",
   "metadata": {},
   "outputs": [
    {
     "data": {
      "text/html": [
       "\n",
       "        <iframe\n",
       "            width=\"100%\"\n",
       "            height=\"650\"\n",
       "            src=\"http://127.0.0.1:8050/\"\n",
       "            frameborder=\"0\"\n",
       "            allowfullscreen\n",
       "            \n",
       "        ></iframe>\n",
       "        "
      ],
      "text/plain": [
       "<IPython.lib.display.IFrame at 0x7f8332526190>"
      ]
     },
     "metadata": {},
     "output_type": "display_data"
    }
   ],
   "source": [
    "import pandas as pd\n",
    "import dash\n",
    "from dash import dcc, html\n",
    "from dash.dependencies import Input, Output\n",
    "import plotly.express as px\n",
    "\n",
    "# Load the dataset\n",
    "file_path = '/Users/artashesmatshkalyan/Downloads/GlobalLandTemperatures_GlobalLandTemperaturesByMajorCity.csv'\n",
    "df = pd.read_csv(file_path)\n",
    "\n",
    "# Convert 'dt' column to datetime\n",
    "df['dt'] = pd.to_datetime(df['dt'])\n",
    "\n",
    "# Drop rows with missing temperature values\n",
    "df = df.dropna(subset=['AverageTemperature'])\n",
    "\n",
    "# Create a new column for year\n",
    "df['Year'] = df['dt'].dt.year\n",
    "\n",
    "# Initialize the Dash app\n",
    "app = dash.Dash(__name__)\n",
    "\n",
    "# Layout of the dashboard with 2 views: Map View and Best Countries\n",
    "app.layout = html.Div(style={'backgroundColor': '#2d2d2d', 'color': 'white'}, children=[\n",
    "    html.H1(\"Global Temperature Analysis Dashboard\", style={'textAlign': 'center', 'color': 'white'}),\n",
    "    \n",
    "    # Map view for average temperature by city (with increased size)\n",
    "    html.Div([\n",
    "        dcc.Graph(id='map-view', figure=px.scatter_geo(\n",
    "            df, locations=\"Country\", locationmode=\"country names\",\n",
    "            color=\"AverageTemperature\", hover_name=\"City\",\n",
    "            size=df['AverageTemperature'].abs(),  # Use absolute value for size\n",
    "            animation_frame=\"Year\",\n",
    "            projection=\"natural earth\",\n",
    "            title=\"Global Average Temperature by City\",\n",
    "            template='plotly_dark').update_layout(\n",
    "                paper_bgcolor='#2d2d2d', geo_bgcolor='#2d2d2d',\n",
    "                font_color='white', geo=dict(showland=True, landcolor='darkgrey'),\n",
    "                height=600  # Set larger height for map view\n",
    "        ))\n",
    "    ], style={'width': '100%', 'display': 'inline-block'}),\n",
    "    \n",
    "    # Scatter plot for best countries for future living based on average temperature\n",
    "    html.Div([\n",
    "        dcc.Graph(id='best-countries', style={'height': '600px'}, figure=px.scatter(\n",
    "            df.groupby('Country')['AverageTemperature'].mean().reset_index(),\n",
    "            x='AverageTemperature', y='Country', color='AverageTemperature',\n",
    "            title=\"Best Countries for Future Living (Moderate Avg Temp)\",\n",
    "            template='plotly_dark').update_traces(marker=dict(size=10))\n",
    "            .update_layout(\n",
    "                paper_bgcolor='#2d2d2d', font_color='white',\n",
    "                title_font_color='white', plot_bgcolor='#2d2d2d',\n",
    "                height=600  # Increase height for scatter plot\n",
    "        ))\n",
    "    ], style={'width': '100%', 'display': 'inline-block'}),\n",
    "])\n",
    "\n",
    "# Highlight Canada, Russia, and Chile in the scatter plot\n",
    "@app.callback(\n",
    "    Output('best-countries', 'figure'),\n",
    "    [Input('best-countries', 'hoverData')]\n",
    ")\n",
    "def update_best_countries_plot(hoverData):\n",
    "    best_countries_df = df.groupby('Country')['AverageTemperature'].mean().reset_index()\n",
    "    \n",
    "    # Set different sizes and colors for Canada, Russia, and Chile to highlight them\n",
    "    best_countries_df['MarkerSize'] = 10  # Default size\n",
    "    best_countries_df.loc[best_countries_df['Country'].isin(['Canada', 'Russia', 'Chile']), 'MarkerSize'] = 20  # Highlight size\n",
    "    \n",
    "    fig = px.scatter(\n",
    "        best_countries_df, x='AverageTemperature', y='Country', color='AverageTemperature',\n",
    "        title=\"Best Countries for Future Living (Moderate Avg Temp)\", size='MarkerSize',\n",
    "        template='plotly_dark', labels={'AverageTemperature': 'Average Temp (°C)'}\n",
    "    )\n",
    "    \n",
    "    # Custom styling to make Canada, Russia, and Chile stand out\n",
    "    fig.update_traces(marker=dict(line=dict(width=2, color='white')))  # Add outline to markers\n",
    "    fig.update_layout(paper_bgcolor='#2d2d2d', font_color='white', title_font_color='white')\n",
    "    \n",
    "    return fig\n",
    "\n",
    "# Run the Dash app\n",
    "if __name__ == '__main__':\n",
    "    app.run_server(debug=True)\n"
   ]
  },
  {
   "cell_type": "code",
   "execution_count": null,
   "id": "027a119e",
   "metadata": {},
   "outputs": [],
   "source": []
  }
 ],
 "metadata": {
  "kernelspec": {
   "display_name": "Python 3 (ipykernel)",
   "language": "python",
   "name": "python3"
  },
  "language_info": {
   "codemirror_mode": {
    "name": "ipython",
    "version": 3
   },
   "file_extension": ".py",
   "mimetype": "text/x-python",
   "name": "python",
   "nbconvert_exporter": "python",
   "pygments_lexer": "ipython3",
   "version": "3.9.13"
  }
 },
 "nbformat": 4,
 "nbformat_minor": 5
}
